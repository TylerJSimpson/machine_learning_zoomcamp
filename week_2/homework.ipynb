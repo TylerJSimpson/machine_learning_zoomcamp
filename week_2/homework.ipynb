{
 "cells": [
  {
   "cell_type": "markdown",
   "metadata": {},
   "source": [
    "# Homework week 2"
   ]
  },
  {
   "cell_type": "markdown",
   "metadata": {},
   "source": [
    "## Preparation"
   ]
  },
  {
   "cell_type": "code",
   "execution_count": 281,
   "metadata": {},
   "outputs": [],
   "source": [
    "# Import packages\n",
    "import pandas as pd\n",
    "import numpy as np\n",
    "import seaborn as sns\n",
    "import matplotlib.pyplot as plt"
   ]
  },
  {
   "cell_type": "code",
   "execution_count": 282,
   "metadata": {},
   "outputs": [],
   "source": [
    "# Get data for homework\n",
    "import requests\n",
    "\n",
    "url = 'https://raw.githubusercontent.com/alexeygrigorev/datasets/master/housing.csv'\n",
    "response = requests.get(url)\n",
    "\n",
    "if response.status_code == 200:\n",
    "    with open('housing.csv', 'wb') as file:\n",
    "        file.write(response.content)\n",
    "else:\n",
    "    print(\"Download failed.\")"
   ]
  },
  {
   "cell_type": "code",
   "execution_count": 283,
   "metadata": {},
   "outputs": [
    {
     "data": {
      "text/html": [
       "<div>\n",
       "<style scoped>\n",
       "    .dataframe tbody tr th:only-of-type {\n",
       "        vertical-align: middle;\n",
       "    }\n",
       "\n",
       "    .dataframe tbody tr th {\n",
       "        vertical-align: top;\n",
       "    }\n",
       "\n",
       "    .dataframe thead th {\n",
       "        text-align: right;\n",
       "    }\n",
       "</style>\n",
       "<table border=\"1\" class=\"dataframe\">\n",
       "  <thead>\n",
       "    <tr style=\"text-align: right;\">\n",
       "      <th></th>\n",
       "      <th>longitude</th>\n",
       "      <th>latitude</th>\n",
       "      <th>housing_median_age</th>\n",
       "      <th>total_rooms</th>\n",
       "      <th>total_bedrooms</th>\n",
       "      <th>population</th>\n",
       "      <th>households</th>\n",
       "      <th>median_income</th>\n",
       "      <th>median_house_value</th>\n",
       "      <th>ocean_proximity</th>\n",
       "    </tr>\n",
       "  </thead>\n",
       "  <tbody>\n",
       "    <tr>\n",
       "      <th>0</th>\n",
       "      <td>-122.23</td>\n",
       "      <td>37.88</td>\n",
       "      <td>41.0</td>\n",
       "      <td>880.0</td>\n",
       "      <td>129.0</td>\n",
       "      <td>322.0</td>\n",
       "      <td>126.0</td>\n",
       "      <td>8.3252</td>\n",
       "      <td>452600.0</td>\n",
       "      <td>NEAR BAY</td>\n",
       "    </tr>\n",
       "    <tr>\n",
       "      <th>1</th>\n",
       "      <td>-122.22</td>\n",
       "      <td>37.86</td>\n",
       "      <td>21.0</td>\n",
       "      <td>7099.0</td>\n",
       "      <td>1106.0</td>\n",
       "      <td>2401.0</td>\n",
       "      <td>1138.0</td>\n",
       "      <td>8.3014</td>\n",
       "      <td>358500.0</td>\n",
       "      <td>NEAR BAY</td>\n",
       "    </tr>\n",
       "    <tr>\n",
       "      <th>2</th>\n",
       "      <td>-122.24</td>\n",
       "      <td>37.85</td>\n",
       "      <td>52.0</td>\n",
       "      <td>1467.0</td>\n",
       "      <td>190.0</td>\n",
       "      <td>496.0</td>\n",
       "      <td>177.0</td>\n",
       "      <td>7.2574</td>\n",
       "      <td>352100.0</td>\n",
       "      <td>NEAR BAY</td>\n",
       "    </tr>\n",
       "    <tr>\n",
       "      <th>3</th>\n",
       "      <td>-122.25</td>\n",
       "      <td>37.85</td>\n",
       "      <td>52.0</td>\n",
       "      <td>1274.0</td>\n",
       "      <td>235.0</td>\n",
       "      <td>558.0</td>\n",
       "      <td>219.0</td>\n",
       "      <td>5.6431</td>\n",
       "      <td>341300.0</td>\n",
       "      <td>NEAR BAY</td>\n",
       "    </tr>\n",
       "    <tr>\n",
       "      <th>4</th>\n",
       "      <td>-122.25</td>\n",
       "      <td>37.85</td>\n",
       "      <td>52.0</td>\n",
       "      <td>1627.0</td>\n",
       "      <td>280.0</td>\n",
       "      <td>565.0</td>\n",
       "      <td>259.0</td>\n",
       "      <td>3.8462</td>\n",
       "      <td>342200.0</td>\n",
       "      <td>NEAR BAY</td>\n",
       "    </tr>\n",
       "    <tr>\n",
       "      <th>...</th>\n",
       "      <td>...</td>\n",
       "      <td>...</td>\n",
       "      <td>...</td>\n",
       "      <td>...</td>\n",
       "      <td>...</td>\n",
       "      <td>...</td>\n",
       "      <td>...</td>\n",
       "      <td>...</td>\n",
       "      <td>...</td>\n",
       "      <td>...</td>\n",
       "    </tr>\n",
       "    <tr>\n",
       "      <th>20635</th>\n",
       "      <td>-121.09</td>\n",
       "      <td>39.48</td>\n",
       "      <td>25.0</td>\n",
       "      <td>1665.0</td>\n",
       "      <td>374.0</td>\n",
       "      <td>845.0</td>\n",
       "      <td>330.0</td>\n",
       "      <td>1.5603</td>\n",
       "      <td>78100.0</td>\n",
       "      <td>INLAND</td>\n",
       "    </tr>\n",
       "    <tr>\n",
       "      <th>20636</th>\n",
       "      <td>-121.21</td>\n",
       "      <td>39.49</td>\n",
       "      <td>18.0</td>\n",
       "      <td>697.0</td>\n",
       "      <td>150.0</td>\n",
       "      <td>356.0</td>\n",
       "      <td>114.0</td>\n",
       "      <td>2.5568</td>\n",
       "      <td>77100.0</td>\n",
       "      <td>INLAND</td>\n",
       "    </tr>\n",
       "    <tr>\n",
       "      <th>20637</th>\n",
       "      <td>-121.22</td>\n",
       "      <td>39.43</td>\n",
       "      <td>17.0</td>\n",
       "      <td>2254.0</td>\n",
       "      <td>485.0</td>\n",
       "      <td>1007.0</td>\n",
       "      <td>433.0</td>\n",
       "      <td>1.7000</td>\n",
       "      <td>92300.0</td>\n",
       "      <td>INLAND</td>\n",
       "    </tr>\n",
       "    <tr>\n",
       "      <th>20638</th>\n",
       "      <td>-121.32</td>\n",
       "      <td>39.43</td>\n",
       "      <td>18.0</td>\n",
       "      <td>1860.0</td>\n",
       "      <td>409.0</td>\n",
       "      <td>741.0</td>\n",
       "      <td>349.0</td>\n",
       "      <td>1.8672</td>\n",
       "      <td>84700.0</td>\n",
       "      <td>INLAND</td>\n",
       "    </tr>\n",
       "    <tr>\n",
       "      <th>20639</th>\n",
       "      <td>-121.24</td>\n",
       "      <td>39.37</td>\n",
       "      <td>16.0</td>\n",
       "      <td>2785.0</td>\n",
       "      <td>616.0</td>\n",
       "      <td>1387.0</td>\n",
       "      <td>530.0</td>\n",
       "      <td>2.3886</td>\n",
       "      <td>89400.0</td>\n",
       "      <td>INLAND</td>\n",
       "    </tr>\n",
       "  </tbody>\n",
       "</table>\n",
       "<p>20640 rows × 10 columns</p>\n",
       "</div>"
      ],
      "text/plain": [
       "       longitude  latitude  housing_median_age  total_rooms  total_bedrooms  \\\n",
       "0        -122.23     37.88                41.0        880.0           129.0   \n",
       "1        -122.22     37.86                21.0       7099.0          1106.0   \n",
       "2        -122.24     37.85                52.0       1467.0           190.0   \n",
       "3        -122.25     37.85                52.0       1274.0           235.0   \n",
       "4        -122.25     37.85                52.0       1627.0           280.0   \n",
       "...          ...       ...                 ...          ...             ...   \n",
       "20635    -121.09     39.48                25.0       1665.0           374.0   \n",
       "20636    -121.21     39.49                18.0        697.0           150.0   \n",
       "20637    -121.22     39.43                17.0       2254.0           485.0   \n",
       "20638    -121.32     39.43                18.0       1860.0           409.0   \n",
       "20639    -121.24     39.37                16.0       2785.0           616.0   \n",
       "\n",
       "       population  households  median_income  median_house_value  \\\n",
       "0           322.0       126.0         8.3252            452600.0   \n",
       "1          2401.0      1138.0         8.3014            358500.0   \n",
       "2           496.0       177.0         7.2574            352100.0   \n",
       "3           558.0       219.0         5.6431            341300.0   \n",
       "4           565.0       259.0         3.8462            342200.0   \n",
       "...           ...         ...            ...                 ...   \n",
       "20635       845.0       330.0         1.5603             78100.0   \n",
       "20636       356.0       114.0         2.5568             77100.0   \n",
       "20637      1007.0       433.0         1.7000             92300.0   \n",
       "20638       741.0       349.0         1.8672             84700.0   \n",
       "20639      1387.0       530.0         2.3886             89400.0   \n",
       "\n",
       "      ocean_proximity  \n",
       "0            NEAR BAY  \n",
       "1            NEAR BAY  \n",
       "2            NEAR BAY  \n",
       "3            NEAR BAY  \n",
       "4            NEAR BAY  \n",
       "...               ...  \n",
       "20635          INLAND  \n",
       "20636          INLAND  \n",
       "20637          INLAND  \n",
       "20638          INLAND  \n",
       "20639          INLAND  \n",
       "\n",
       "[20640 rows x 10 columns]"
      ]
     },
     "execution_count": 283,
     "metadata": {},
     "output_type": "execute_result"
    }
   ],
   "source": [
    "# EDA - load data\n",
    "df = pd.read_csv('housing.csv')\n",
    "df"
   ]
  },
  {
   "cell_type": "code",
   "execution_count": 284,
   "metadata": {},
   "outputs": [
    {
     "data": {
      "text/plain": [
       "<Axes: xlabel='median_house_value', ylabel='Count'>"
      ]
     },
     "execution_count": 284,
     "metadata": {},
     "output_type": "execute_result"
    },
    {
     "data": {
      "image/png": "[encoded data removed]",
      "text/plain": [
       "<Figure size 640x480 with 1 Axes>"
      ]
     },
     "metadata": {},
     "output_type": "display_data"
    }
   ],
   "source": [
    "# EDA - Explore median_house_value\n",
    "sns.histplot(df.median_house_value, bins = 50)"
   ]
  },
  {
   "cell_type": "code",
   "execution_count": 285,
   "metadata": {},
   "outputs": [
    {
     "data": {
      "text/plain": [
       "array(['NEAR BAY', '<1H OCEAN', 'INLAND', 'NEAR OCEAN', 'ISLAND'],\n",
       "      dtype=object)"
      ]
     },
     "execution_count": 285,
     "metadata": {},
     "output_type": "execute_result"
    }
   ],
   "source": [
    "# Filter data to only keep records where `ocean_proximity` is either `<1H OCEAN` or `INLAND`\n",
    "\n",
    "# First check uniques to ensure they match\n",
    "df['ocean_proximity'].unique()"
   ]
  },
  {
   "cell_type": "code",
   "execution_count": 286,
   "metadata": {},
   "outputs": [
    {
     "data": {
      "text/plain": [
       "array(['<1H OCEAN', 'INLAND'], dtype=object)"
      ]
     },
     "execution_count": 286,
     "metadata": {},
     "output_type": "execute_result"
    }
   ],
   "source": [
    "# Now the names have been confirmed we can filter\n",
    "df = df[(df['ocean_proximity'] == '<1H OCEAN') | (df['ocean_proximity'] == 'INLAND')]\n",
    "# Check to ensure it worked properly\n",
    "df['ocean_proximity'].unique()"
   ]
  },
  {
   "cell_type": "markdown",
   "metadata": {},
   "source": [
    "## Question 1  \n",
    "Which feature has missing values?"
   ]
  },
  {
   "cell_type": "code",
   "execution_count": 287,
   "metadata": {},
   "outputs": [
    {
     "data": {
      "text/plain": [
       "longitude               0\n",
       "latitude                0\n",
       "housing_median_age      0\n",
       "total_rooms             0\n",
       "total_bedrooms        157\n",
       "population              0\n",
       "households              0\n",
       "median_income           0\n",
       "median_house_value      0\n",
       "ocean_proximity         0\n",
       "dtype: int64"
      ]
     },
     "execution_count": 287,
     "metadata": {},
     "output_type": "execute_result"
    }
   ],
   "source": [
    "# Check for nulls\n",
    "df.isnull().sum()"
   ]
  },
  {
   "cell_type": "markdown",
   "metadata": {},
   "source": [
    "## Question 2  \n",
    "What's the median for variable 'population'?"
   ]
  },
  {
   "cell_type": "code",
   "execution_count": 288,
   "metadata": {},
   "outputs": [
    {
     "data": {
      "text/plain": [
       "1195.0"
      ]
     },
     "execution_count": 288,
     "metadata": {},
     "output_type": "execute_result"
    }
   ],
   "source": [
    "# Get median of `population`\n",
    "df['population'].median()"
   ]
  },
  {
   "cell_type": "markdown",
   "metadata": {},
   "source": [
    "## Prepare and split the dataset"
   ]
  },
  {
   "cell_type": "code",
   "execution_count": 289,
   "metadata": {},
   "outputs": [
    {
     "data": {
      "text/plain": [
       "(9413, 3137, 3137)"
      ]
     },
     "execution_count": 289,
     "metadata": {},
     "output_type": "execute_result"
    }
   ],
   "source": [
    "# Check size of df and set to n\n",
    "n = len(df)\n",
    "\n",
    "# Get count of train/val/test 60%/20%/20%\n",
    "n_val = int(n * 0.2)\n",
    "n_test = int(n * 0.2)\n",
    "n_train = n - (n_val + n_test)\n",
    "\n",
    "# Validate counts\n",
    "n_train, n_val, n_test"
   ]
  },
  {
   "cell_type": "code",
   "execution_count": 290,
   "metadata": {},
   "outputs": [],
   "source": [
    "# Prepare index to ensure data is shuffled\n",
    "idx = np.arange(n)\n",
    "\n",
    "# Set seed to 42\n",
    "np.random.seed(42)\n",
    "# Shuffle\n",
    "np.random.shuffle(idx)"
   ]
  },
  {
   "cell_type": "code",
   "execution_count": 291,
   "metadata": {},
   "outputs": [
    {
     "data": {
      "text/plain": [
       "(9413, 3137, 3137)"
      ]
     },
     "execution_count": 291,
     "metadata": {},
     "output_type": "execute_result"
    }
   ],
   "source": [
    "# Set dataframes to the values with seed index to allow for shuffling\n",
    "df_train = df.iloc[idx[:n_train]]\n",
    "df_val = df.iloc[idx[n_train:n_train + n_val]]\n",
    "df_test = df.iloc[idx[n_train + n_val:]]\n",
    "\n",
    "# Check lengths\n",
    "len(df_train), len(df_val), len(df_test)"
   ]
  },
  {
   "cell_type": "code",
   "execution_count": 292,
   "metadata": {},
   "outputs": [],
   "source": [
    "# The indexes are random now but we can reset them since they're already split\n",
    "df_train = df_train.reset_index(drop=True)\n",
    "df_val = df_val.reset_index(drop=True)\n",
    "df_test = df_test.reset_index(drop=True)"
   ]
  },
  {
   "cell_type": "code",
   "execution_count": 293,
   "metadata": {},
   "outputs": [],
   "source": [
    "# Apply the log transformation `np.log1p()` to the target variable `median_house_value`\n",
    "y_train = np.log1p(df_train.median_house_value.values)\n",
    "y_val = np.log1p(df_val.median_house_value.values)\n",
    "y_test = np.log1p(df_test.median_house_value.values)"
   ]
  },
  {
   "cell_type": "code",
   "execution_count": 294,
   "metadata": {},
   "outputs": [],
   "source": [
    "# This was not mentioend but we must remove the targets from the dataframes to avoid overtraining\n",
    "del df_train['median_house_value']\n",
    "del df_val['median_house_value']\n",
    "del df_test['median_house_value']"
   ]
  },
  {
   "cell_type": "code",
   "execution_count": 295,
   "metadata": {},
   "outputs": [],
   "source": [
    "# Remove `ocean_proximity` since it is not used\n",
    "del df_train['ocean_proximity']\n",
    "del df_val['ocean_proximity']\n",
    "del df_test['ocean_proximity']"
   ]
  },
  {
   "cell_type": "markdown",
   "metadata": {},
   "source": [
    "## Question 3  \n",
    "- Deal with the missing values from `total_bedrooms` by either filling with 0 or the mean  \n",
    "- Run a linear regression and test which results in a better RMSE rounded to 2 decimals `round(score, 2)`"
   ]
  },
  {
   "cell_type": "code",
   "execution_count": 296,
   "metadata": {},
   "outputs": [],
   "source": [
    "# Define function to train a linear regression model\n",
    "\n",
    "def train_linear_regression(X, y, r=0):\n",
    "    ones = np.ones(X.shape[0])\n",
    "    X = np.column_stack([ones, X])\n",
    "\n",
    "    XTX = X.T.dot(X)\n",
    "    XTX = XTX + r * np.eye(XTX.shape[0])\n",
    "\n",
    "    XTX_inv = np.linalg.inv(XTX)\n",
    "    w_full = XTX_inv.dot(X.T).dot(y)\n",
    "\n",
    "    return w_full[0], w_full[1:]"
   ]
  },
  {
   "cell_type": "code",
   "execution_count": 297,
   "metadata": {},
   "outputs": [],
   "source": [
    "# Define function to calculate the RMSE\n",
    "\n",
    "def rmse(y_true, y_pred):\n",
    "    error = y_true - y_pred\n",
    "    mse = (error ** 2).mean()\n",
    "    return np.sqrt(mse)"
   ]
  },
  {
   "cell_type": "markdown",
   "metadata": {},
   "source": [
    "### Filling `total_bedrooms` with 0 option"
   ]
  },
  {
   "cell_type": "code",
   "execution_count": 298,
   "metadata": {},
   "outputs": [
    {
     "data": {
      "text/plain": [
       "longitude             0\n",
       "latitude              0\n",
       "housing_median_age    0\n",
       "total_rooms           0\n",
       "total_bedrooms        0\n",
       "population            0\n",
       "households            0\n",
       "median_income         0\n",
       "dtype: int64"
      ]
     },
     "execution_count": 298,
     "metadata": {},
     "output_type": "execute_result"
    }
   ],
   "source": [
    "# Copy dataframe\n",
    "df_train_zero = df_train.copy()\n",
    "\n",
    "# Replace missing values with 0\n",
    "df_train_zero['total_bedrooms'].fillna(0, inplace=True)\n",
    "# Check that there are no missing values left\n",
    "df_train_zero.isnull().sum()"
   ]
  },
  {
   "cell_type": "markdown",
   "metadata": {},
   "source": [
    "### Filling `total_bedrooms` with mean option"
   ]
  },
  {
   "cell_type": "code",
   "execution_count": 299,
   "metadata": {},
   "outputs": [
    {
     "data": {
      "text/plain": [
       "longitude             0\n",
       "latitude              0\n",
       "housing_median_age    0\n",
       "total_rooms           0\n",
       "total_bedrooms        0\n",
       "population            0\n",
       "households            0\n",
       "median_income         0\n",
       "dtype: int64"
      ]
     },
     "execution_count": 299,
     "metadata": {},
     "output_type": "execute_result"
    }
   ],
   "source": [
    "# Copy dataframe\n",
    "df_train_mean = df_train.copy()\n",
    "\n",
    "# Get mean\n",
    "mean_total_bedrooms = df_train_mean['total_bedrooms'].mean()\n",
    "# Replace missing values with the mean\n",
    "df_train_mean['total_bedrooms'].fillna(mean_total_bedrooms, inplace=True)\n",
    "# Check that there are no missing values left\n",
    "df_train_mean.isnull().sum()"
   ]
  },
  {
   "cell_type": "markdown",
   "metadata": {},
   "source": [
    "### The validation sets will still have missing values which will cause issues and needs temporarily fixed"
   ]
  },
  {
   "cell_type": "code",
   "execution_count": 300,
   "metadata": {},
   "outputs": [],
   "source": [
    "# Replace missing values in the validation set with 0 (for the 'fill with 0' model)\n",
    "df_val_zero = df_val.copy()\n",
    "df_val_zero['total_bedrooms'].fillna(0, inplace=True)\n",
    "\n",
    "# Replace missing values in the validation set with the mean (for the 'fill with mean' model)\n",
    "df_val_mean = df_val.copy()\n",
    "mean_total_bedrooms = df_val_mean['total_bedrooms'].mean()\n",
    "df_val_mean['total_bedrooms'].fillna(mean_total_bedrooms, inplace=True)"
   ]
  },
  {
   "cell_type": "markdown",
   "metadata": {},
   "source": [
    "### Going forward with comparison in tandem"
   ]
  },
  {
   "cell_type": "code",
   "execution_count": 301,
   "metadata": {},
   "outputs": [],
   "source": [
    "# Convert dataframe to numpy array\n",
    "X_train_zero = df_train_zero.values\n",
    "X_train_mean = df_train_mean.values"
   ]
  },
  {
   "cell_type": "code",
   "execution_count": 302,
   "metadata": {},
   "outputs": [],
   "source": [
    "# Train linear regression model\n",
    "w0_zero, w_zero = train_linear_regression(X_train_zero, y_train, r=0)\n",
    "w0_mean, w_mean = train_linear_regression(X_train_mean, y_train, r=0)"
   ]
  },
  {
   "cell_type": "code",
   "execution_count": 303,
   "metadata": {},
   "outputs": [],
   "source": [
    "# Apply the trained models to the validation dataset\n",
    "X_val_zero = df_val_zero.values\n",
    "X_val_mean = df_val_mean.values"
   ]
  },
  {
   "cell_type": "code",
   "execution_count": 304,
   "metadata": {},
   "outputs": [],
   "source": [
    "# Create prediction\n",
    "y_pred_zero = w0_zero + X_val_zero.dot(w_zero)\n",
    "y_pred_mean = w0_mean + X_val_mean.dot(w_mean)"
   ]
  },
  {
   "cell_type": "code",
   "execution_count": 305,
   "metadata": {},
   "outputs": [],
   "source": [
    "# Calculate RMSE\n",
    "rmse_zero = rmse(y_val, y_pred_zero)\n",
    "rmse_mean = rmse(y_val, y_pred_mean)"
   ]
  },
  {
   "cell_type": "code",
   "execution_count": 306,
   "metadata": {},
   "outputs": [
    {
     "data": {
      "text/plain": [
       "(0.34, 0.34)"
      ]
     },
     "execution_count": 306,
     "metadata": {},
     "output_type": "execute_result"
    }
   ],
   "source": [
    "# Print rounded RMSE\n",
    "round(rmse_zero, 2), round(rmse_mean, 2)"
   ]
  },
  {
   "cell_type": "markdown",
   "metadata": {},
   "source": [
    "## Question 4  \n",
    "- Moving forward with the fill with 0 option\n",
    "- Try different values of `r` `[0, 0.000001, 0.0001, 0.001, 0.01, 0.1, 1, 5, 10]`\n",
    "- Evaluate the RMSE rounded to 2 digits and determine whith `r` gives the best value"
   ]
  },
  {
   "cell_type": "code",
   "execution_count": 307,
   "metadata": {},
   "outputs": [
    {
     "data": {
      "text/plain": [
       "longitude             0\n",
       "latitude              0\n",
       "housing_median_age    0\n",
       "total_rooms           0\n",
       "total_bedrooms        0\n",
       "population            0\n",
       "households            0\n",
       "median_income         0\n",
       "dtype: int64"
      ]
     },
     "execution_count": 307,
     "metadata": {},
     "output_type": "execute_result"
    }
   ],
   "source": [
    "# Replace missing values with 0\n",
    "df_train['total_bedrooms'].fillna(0, inplace=True)\n",
    "# Check that there are no missing values left\n",
    "df_train.isnull().sum()"
   ]
  },
  {
   "cell_type": "code",
   "execution_count": 308,
   "metadata": {},
   "outputs": [],
   "source": [
    "# Replace missing values in the validation set with 0 (for the 'fill with 0' model)\n",
    "df_train['total_bedrooms'].fillna(0, inplace=True)\n",
    "df_val['total_bedrooms'].fillna(0, inplace=True)\n",
    "df_test['total_bedrooms'].fillna(0, inplace=True)"
   ]
  },
  {
   "cell_type": "code",
   "execution_count": 309,
   "metadata": {},
   "outputs": [
    {
     "name": "stdout",
     "output_type": "stream",
     "text": [
      "0 -9.763249476820075 0.34\n",
      "1e-06 -9.763228829930881 0.34\n",
      "0.0001 -9.761185234413102 0.34\n",
      "0.001 -9.742646248260925 0.34\n",
      "0.01 -9.561056192183965 0.34\n",
      "0.1 -8.058889768739107 0.34\n",
      "1 -3.1331542782254003 0.34\n",
      "5 -0.8410867974044524 0.35\n",
      "10 -0.4381172314974181 0.35\n"
     ]
    }
   ],
   "source": [
    "# check the RMSE for each value of r given to tune the model\n",
    "\n",
    "for r in [0, 0.000001, 0.0001, 0.001, 0.01, 0.1, 1, 5, 10]:\n",
    "\n",
    "    #train the model with the training dataset\n",
    "    X_train = df_train.values\n",
    "    w0, w = train_linear_regression(X_train, y_train, r=r)\n",
    "\n",
    "    #validate the model with validation dataset\n",
    "    X_val = X_val = df_val.values\n",
    "    y_pred = w0 + X_val.dot(w)\n",
    "\n",
    "    #assess via the RMSE\n",
    "    score = rmse(y_val, y_pred)\n",
    "\n",
    "    print (r, w0, round(score, 2))"
   ]
  },
  {
   "cell_type": "markdown",
   "metadata": {},
   "source": [
    "## Question 5\n",
    "- We used seed 42 now let us now try different seed values `[0, 1, 2, 3, 4, 5, 6, 7, 8, 9]`\n",
    "- For each seed do the train/validation/test split with 60%/20%/20% distribution\n",
    "- Fill the missing values with 0 and train the model without regularization\n",
    "- For each seed evaluate the model on the validation dataset and collect the RMSE scores\n",
    "- What's the standard devision of all the scores? use `np.std` to calculate standard deviation\n",
    "- Round the result to 3 decimal digits `round(std, 3)`"
   ]
  },
  {
   "cell_type": "code",
   "execution_count": 313,
   "metadata": {},
   "outputs": [
    {
     "name": "stdout",
     "output_type": "stream",
     "text": [
      "0.0\n",
      "0.0\n",
      "0.0003\n",
      "0.0026\n",
      "0.0026\n",
      "0.0033\n",
      "0.0031\n",
      "0.0044\n",
      "0.0056\n",
      "0.0056\n"
     ]
    },
    {
     "name": "stderr",
     "output_type": "stream",
     "text": [
      "/tmp/ipykernel_36981/2267391770.py:42: SettingWithCopyWarning: \n",
      "A value is trying to be set on a copy of a slice from a DataFrame\n",
      "\n",
      "See the caveats in the documentation: https://pandas.pydata.org/pandas-docs/stable/user_guide/indexing.html#returning-a-view-versus-a-copy\n",
      "  df_train['total_bedrooms'].fillna(0, inplace=True)\n",
      "/tmp/ipykernel_36981/2267391770.py:43: SettingWithCopyWarning: \n",
      "A value is trying to be set on a copy of a slice from a DataFrame\n",
      "\n",
      "See the caveats in the documentation: https://pandas.pydata.org/pandas-docs/stable/user_guide/indexing.html#returning-a-view-versus-a-copy\n",
      "  df_val['total_bedrooms'].fillna(0, inplace=True)\n",
      "/tmp/ipykernel_36981/2267391770.py:44: SettingWithCopyWarning: \n",
      "A value is trying to be set on a copy of a slice from a DataFrame\n",
      "\n",
      "See the caveats in the documentation: https://pandas.pydata.org/pandas-docs/stable/user_guide/indexing.html#returning-a-view-versus-a-copy\n",
      "  df_test['total_bedrooms'].fillna(0, inplace=True)\n"
     ]
    }
   ],
   "source": [
    "# Define a list of seed values to iterate over\n",
    "seed_values = [0, 1, 2, 3, 4, 5, 6, 7, 8, 9]\n",
    "\n",
    "# Initialize an empty list to collect RMSE scores\n",
    "rmse_scores = []\n",
    "\n",
    "for seed in seed_values:\n",
    "    # Set seed for reproducibility\n",
    "    np.random.seed(seed)\n",
    "    \n",
    "    # Perform train/validation/test split with a 60%/20%/20% distribution\n",
    "    idx = np.arange(len(df))\n",
    "    np.random.shuffle(idx)\n",
    "    n_train = int(0.6 * len(df))\n",
    "    n_val = int(0.2 * len(df))\n",
    "    n_test = len(df) - n_train - n_val\n",
    "    idx_train = idx[:n_train]\n",
    "    idx_val = idx[n_train:n_train + n_val]\n",
    "    idx_test = idx[n_train + n_val:]\n",
    "    \n",
    "    # Create DataFrames for train, validation, and test sets\n",
    "    df_train = df.iloc[idx_train]\n",
    "    df_val = df.iloc[idx_val]\n",
    "    df_test = df.iloc[idx_test]\n",
    "    \n",
    "    # Apply log transformation to target variables\n",
    "    y_train = np.log1p(df_train['median_house_value'].values)\n",
    "    y_val = np.log1p(df_val['median_house_value'].values)\n",
    "    y_test = np.log1p(df_test['median_house_value'].values)\n",
    "    \n",
    "    # Remove the target variable from DataFrames\n",
    "    del df_train['median_house_value']\n",
    "    del df_val['median_house_value']\n",
    "    del df_test['median_house_value']\n",
    "\n",
    "    # Remove 'ocean_proximity'\n",
    "    del df_train['ocean_proximity']\n",
    "    del df_val['ocean_proximity']\n",
    "    del df_test['ocean_proximity']\n",
    "\n",
    "    # Fill 'total_bedrooms' with 0\n",
    "    df_train['total_bedrooms'].fillna(0, inplace=True)\n",
    "    df_val['total_bedrooms'].fillna(0, inplace=True)\n",
    "    df_test['total_bedrooms'].fillna(0, inplace=True)\n",
    "    \n",
    "    # Convert DataFrames to numpy arrays\n",
    "    X_train = df_train.values\n",
    "    X_val = df_val.values\n",
    "    \n",
    "    # Train a linear regression model without regularization\n",
    "    w0, w = train_linear_regression(X_train, y_train, r=0)\n",
    "    \n",
    "    # Predict on the validation set\n",
    "    y_pred = w0 + X_val.dot(w)\n",
    "    \n",
    "    # Calculate RMSE for this seed\n",
    "    rmse_score = rmse(y_val, y_pred)\n",
    "    \n",
    "    # Append RMSE score to the list\n",
    "    rmse_scores.append(rmse_score)\n",
    "\n",
    "    # Calculate the standard deviation of RMSE scores\n",
    "    std_dev = np.std(rmse_scores)\n",
    "\n",
    "    # Round the standard deviation result to 3 decimal digits\n",
    "    std_dev_rounded = round(std_dev, 4)\n",
    "\n",
    "    print(std_dev_rounded)"
   ]
  },
  {
   "cell_type": "markdown",
   "metadata": {},
   "source": [
    "## Question 6  \n",
    "- Split the dataset like previously and use seed `9`\n",
    "- Combine train and validation datasets\n",
    "- Fill the missing values with 0 and train a model with `r=0.001`\n",
    "- What is the RMSE on the test dataset?"
   ]
  },
  {
   "cell_type": "code",
   "execution_count": 316,
   "metadata": {},
   "outputs": [
    {
     "name": "stdout",
     "output_type": "stream",
     "text": [
      "0.33495446249514166\n"
     ]
    },
    {
     "name": "stderr",
     "output_type": "stream",
     "text": [
      "/tmp/ipykernel_36981/4207028233.py:36: SettingWithCopyWarning: \n",
      "A value is trying to be set on a copy of a slice from a DataFrame\n",
      "\n",
      "See the caveats in the documentation: https://pandas.pydata.org/pandas-docs/stable/user_guide/indexing.html#returning-a-view-versus-a-copy\n",
      "  df_test['total_bedrooms'].fillna(0, inplace=True)\n"
     ]
    }
   ],
   "source": [
    "# Set the random seed to 9 for reproducibility\n",
    "np.random.seed(9)\n",
    "\n",
    "# Perform train/validation/test split with a 60%/20%/20% distribution\n",
    "idx = np.arange(len(df))\n",
    "np.random.shuffle(idx)\n",
    "n_train = int(0.6 * len(df))\n",
    "n_val = int(0.2 * len(df))\n",
    "n_test = len(df) - n_train - n_val\n",
    "idx_train = idx[:n_train]\n",
    "idx_val = idx[n_train:n_train + n_val]\n",
    "idx_test = idx[n_train + n_val:]\n",
    "\n",
    "# Create DataFrames for train, validation, and test sets\n",
    "df_train = df.iloc[idx_train]\n",
    "df_val = df.iloc[idx_val]\n",
    "df_test = df.iloc[idx_test]\n",
    "\n",
    "# Combine train and validation datasets\n",
    "df_train_val = pd.concat([df_train, df_val], axis=0)\n",
    "\n",
    "# Apply log transformation to target variables\n",
    "y_train_val = np.log1p(df_train_val['median_house_value'].values)\n",
    "y_test = np.log1p(df_test['median_house_value'].values)\n",
    "\n",
    "# Remove the target variable from DataFrames\n",
    "del df_train_val['median_house_value']\n",
    "del df_test['median_house_value']\n",
    "\n",
    "# Remove 'ocean_proximity'\n",
    "del df_train_val['ocean_proximity']\n",
    "del df_test['ocean_proximity']\n",
    "\n",
    "# Fill 'total_bedrooms' with 0\n",
    "df_train_val['total_bedrooms'].fillna(0, inplace=True)\n",
    "df_test['total_bedrooms'].fillna(0, inplace=True)\n",
    "\n",
    "# Convert DataFrames to numpy arrays\n",
    "X_train_val = df_train_val.values\n",
    "X_test = df_test.values\n",
    "\n",
    "# Train a linear regression model with r=0.001\n",
    "w0, w = train_linear_regression(X_train_val, y_train_val, r=0.001)\n",
    "\n",
    "# Predict on the test set\n",
    "y_pred_test = w0 + X_test.dot(w)\n",
    "\n",
    "# Calculate RMSE on the test dataset\n",
    "rmse_test = rmse(y_test, y_pred_test)\n",
    "\n",
    "print(rmse_test)"
   ]
  }
 ],
 "metadata": {
  "kernelspec": {
   "display_name": "base",
   "language": "python",
   "name": "python3"
  },
  "language_info": {
   "codemirror_mode": {
    "name": "ipython",
    "version": 3
   },
   "file_extension": ".py",
   "mimetype": "text/x-python",
   "name": "python",
   "nbconvert_exporter": "python",
   "pygments_lexer": "ipython3",
   "version": "3.9.0"
  },
  "orig_nbformat": 4
 },
 "nbformat": 4,
 "nbformat_minor": 2
}
