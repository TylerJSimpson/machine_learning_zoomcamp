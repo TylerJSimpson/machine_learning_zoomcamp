{
 "cells": [
  {
   "cell_type": "markdown",
   "metadata": {},
   "source": [
    "# Homework week 4"
   ]
  },
  {
   "cell_type": "markdown",
   "metadata": {},
   "source": [
    "## Preparation\n",
    "- download data  \n",
    "- keep only columns specified  \n",
    "- lowercase column names and string values\n",
    "- replace column name and string value spaces with underscores\n",
    "- fill missing values with 0\n",
    "- make the price binary as `above_average`\n",
    "- split the data into 3 parts train/validation/test 60%/20%/20% using `train_test_split` with `random_state = 1`"
   ]
  },
  {
   "cell_type": "code",
   "execution_count": 81,
   "metadata": {},
   "outputs": [],
   "source": [
    "#Import packages\n",
    "import pandas as pd\n",
    "import numpy as np\n",
    "from sklearn.model_selection import train_test_split\n",
    "from sklearn.metrics import roc_auc_score\n",
    "from sklearn.feature_extraction import DictVectorizer\n",
    "from sklearn.linear_model import LogisticRegression\n",
    "import matplotlib.pyplot as plt\n",
    "from sklearn.metrics import precision_score, recall_score\n",
    "from sklearn.metrics import f1_score\n",
    "from sklearn.model_selection import KFold\n"
   ]
  },
  {
   "cell_type": "code",
   "execution_count": 42,
   "metadata": {},
   "outputs": [
    {
     "name": "stdout",
     "output_type": "stream",
     "text": [
      "--2023-10-09 13:40:24--  http://wget/\n",
      "Resolving wget (wget)... "
     ]
    },
    {
     "name": "stdout",
     "output_type": "stream",
     "text": [
      "failed: Name or service not known.\n",
      "wget: unable to resolve host address ‘wget’\n",
      "--2023-10-09 13:40:25--  https://raw.githubusercontent.com/alexeygrigorev/mlbookcamp-code/master/chapter-02-car-price/data.csv\n",
      "Resolving raw.githubusercontent.com (raw.githubusercontent.com)... 185.199.108.133, 185.199.109.133, 185.199.110.133, ...\n",
      "Connecting to raw.githubusercontent.com (raw.githubusercontent.com)|185.199.108.133|:443... connected.\n",
      "HTTP request sent, awaiting response... 200 OK\n",
      "Length: 1475504 (1.4M) [text/plain]\n",
      "Saving to: ‘homework_data.csv’\n",
      "\n",
      "homework_data.csv   100%[===================>]   1.41M  4.22MB/s    in 0.3s    \n",
      "\n",
      "2023-10-09 13:40:26 (4.22 MB/s) - ‘homework_data.csv’ saved [1475504/1475504]\n",
      "\n",
      "FINISHED --2023-10-09 13:40:26--\n",
      "Total wall clock time: 1.7s\n",
      "Downloaded: 1 files, 1.4M in 0.3s (4.22 MB/s)\n"
     ]
    }
   ],
   "source": [
    "#Download data\n",
    "data = 'wget https://raw.githubusercontent.com/alexeygrigorev/mlbookcamp-code/master/chapter-02-car-price/data.csv'\n",
    "!wget $data -O homework_data.csv"
   ]
  },
  {
   "cell_type": "code",
   "execution_count": 43,
   "metadata": {},
   "outputs": [
    {
     "data": {
      "text/html": [
       "<div>\n",
       "<style scoped>\n",
       "    .dataframe tbody tr th:only-of-type {\n",
       "        vertical-align: middle;\n",
       "    }\n",
       "\n",
       "    .dataframe tbody tr th {\n",
       "        vertical-align: top;\n",
       "    }\n",
       "\n",
       "    .dataframe thead th {\n",
       "        text-align: right;\n",
       "    }\n",
       "</style>\n",
       "<table border=\"1\" class=\"dataframe\">\n",
       "  <thead>\n",
       "    <tr style=\"text-align: right;\">\n",
       "      <th></th>\n",
       "      <th>0</th>\n",
       "      <th>1</th>\n",
       "      <th>2</th>\n",
       "      <th>3</th>\n",
       "      <th>4</th>\n",
       "    </tr>\n",
       "  </thead>\n",
       "  <tbody>\n",
       "    <tr>\n",
       "      <th>Make</th>\n",
       "      <td>BMW</td>\n",
       "      <td>BMW</td>\n",
       "      <td>BMW</td>\n",
       "      <td>BMW</td>\n",
       "      <td>BMW</td>\n",
       "    </tr>\n",
       "    <tr>\n",
       "      <th>Model</th>\n",
       "      <td>1 Series M</td>\n",
       "      <td>1 Series</td>\n",
       "      <td>1 Series</td>\n",
       "      <td>1 Series</td>\n",
       "      <td>1 Series</td>\n",
       "    </tr>\n",
       "    <tr>\n",
       "      <th>Year</th>\n",
       "      <td>2011</td>\n",
       "      <td>2011</td>\n",
       "      <td>2011</td>\n",
       "      <td>2011</td>\n",
       "      <td>2011</td>\n",
       "    </tr>\n",
       "    <tr>\n",
       "      <th>Engine Fuel Type</th>\n",
       "      <td>premium unleaded (required)</td>\n",
       "      <td>premium unleaded (required)</td>\n",
       "      <td>premium unleaded (required)</td>\n",
       "      <td>premium unleaded (required)</td>\n",
       "      <td>premium unleaded (required)</td>\n",
       "    </tr>\n",
       "    <tr>\n",
       "      <th>Engine HP</th>\n",
       "      <td>335.0</td>\n",
       "      <td>300.0</td>\n",
       "      <td>300.0</td>\n",
       "      <td>230.0</td>\n",
       "      <td>230.0</td>\n",
       "    </tr>\n",
       "    <tr>\n",
       "      <th>Engine Cylinders</th>\n",
       "      <td>6.0</td>\n",
       "      <td>6.0</td>\n",
       "      <td>6.0</td>\n",
       "      <td>6.0</td>\n",
       "      <td>6.0</td>\n",
       "    </tr>\n",
       "    <tr>\n",
       "      <th>Transmission Type</th>\n",
       "      <td>MANUAL</td>\n",
       "      <td>MANUAL</td>\n",
       "      <td>MANUAL</td>\n",
       "      <td>MANUAL</td>\n",
       "      <td>MANUAL</td>\n",
       "    </tr>\n",
       "    <tr>\n",
       "      <th>Driven_Wheels</th>\n",
       "      <td>rear wheel drive</td>\n",
       "      <td>rear wheel drive</td>\n",
       "      <td>rear wheel drive</td>\n",
       "      <td>rear wheel drive</td>\n",
       "      <td>rear wheel drive</td>\n",
       "    </tr>\n",
       "    <tr>\n",
       "      <th>Number of Doors</th>\n",
       "      <td>2.0</td>\n",
       "      <td>2.0</td>\n",
       "      <td>2.0</td>\n",
       "      <td>2.0</td>\n",
       "      <td>2.0</td>\n",
       "    </tr>\n",
       "    <tr>\n",
       "      <th>Market Category</th>\n",
       "      <td>Factory Tuner,Luxury,High-Performance</td>\n",
       "      <td>Luxury,Performance</td>\n",
       "      <td>Luxury,High-Performance</td>\n",
       "      <td>Luxury,Performance</td>\n",
       "      <td>Luxury</td>\n",
       "    </tr>\n",
       "    <tr>\n",
       "      <th>Vehicle Size</th>\n",
       "      <td>Compact</td>\n",
       "      <td>Compact</td>\n",
       "      <td>Compact</td>\n",
       "      <td>Compact</td>\n",
       "      <td>Compact</td>\n",
       "    </tr>\n",
       "    <tr>\n",
       "      <th>Vehicle Style</th>\n",
       "      <td>Coupe</td>\n",
       "      <td>Convertible</td>\n",
       "      <td>Coupe</td>\n",
       "      <td>Coupe</td>\n",
       "      <td>Convertible</td>\n",
       "    </tr>\n",
       "    <tr>\n",
       "      <th>highway MPG</th>\n",
       "      <td>26</td>\n",
       "      <td>28</td>\n",
       "      <td>28</td>\n",
       "      <td>28</td>\n",
       "      <td>28</td>\n",
       "    </tr>\n",
       "    <tr>\n",
       "      <th>city mpg</th>\n",
       "      <td>19</td>\n",
       "      <td>19</td>\n",
       "      <td>20</td>\n",
       "      <td>18</td>\n",
       "      <td>18</td>\n",
       "    </tr>\n",
       "    <tr>\n",
       "      <th>Popularity</th>\n",
       "      <td>3916</td>\n",
       "      <td>3916</td>\n",
       "      <td>3916</td>\n",
       "      <td>3916</td>\n",
       "      <td>3916</td>\n",
       "    </tr>\n",
       "    <tr>\n",
       "      <th>MSRP</th>\n",
       "      <td>46135</td>\n",
       "      <td>40650</td>\n",
       "      <td>36350</td>\n",
       "      <td>29450</td>\n",
       "      <td>34500</td>\n",
       "    </tr>\n",
       "  </tbody>\n",
       "</table>\n",
       "</div>"
      ],
      "text/plain": [
       "                                                       0  \\\n",
       "Make                                                 BMW   \n",
       "Model                                         1 Series M   \n",
       "Year                                                2011   \n",
       "Engine Fuel Type             premium unleaded (required)   \n",
       "Engine HP                                          335.0   \n",
       "Engine Cylinders                                     6.0   \n",
       "Transmission Type                                 MANUAL   \n",
       "Driven_Wheels                           rear wheel drive   \n",
       "Number of Doors                                      2.0   \n",
       "Market Category    Factory Tuner,Luxury,High-Performance   \n",
       "Vehicle Size                                     Compact   \n",
       "Vehicle Style                                      Coupe   \n",
       "highway MPG                                           26   \n",
       "city mpg                                              19   \n",
       "Popularity                                          3916   \n",
       "MSRP                                               46135   \n",
       "\n",
       "                                             1                            2  \\\n",
       "Make                                       BMW                          BMW   \n",
       "Model                                 1 Series                     1 Series   \n",
       "Year                                      2011                         2011   \n",
       "Engine Fuel Type   premium unleaded (required)  premium unleaded (required)   \n",
       "Engine HP                                300.0                        300.0   \n",
       "Engine Cylinders                           6.0                          6.0   \n",
       "Transmission Type                       MANUAL                       MANUAL   \n",
       "Driven_Wheels                 rear wheel drive             rear wheel drive   \n",
       "Number of Doors                            2.0                          2.0   \n",
       "Market Category             Luxury,Performance      Luxury,High-Performance   \n",
       "Vehicle Size                           Compact                      Compact   \n",
       "Vehicle Style                      Convertible                        Coupe   \n",
       "highway MPG                                 28                           28   \n",
       "city mpg                                    19                           20   \n",
       "Popularity                                3916                         3916   \n",
       "MSRP                                     40650                        36350   \n",
       "\n",
       "                                             3                            4  \n",
       "Make                                       BMW                          BMW  \n",
       "Model                                 1 Series                     1 Series  \n",
       "Year                                      2011                         2011  \n",
       "Engine Fuel Type   premium unleaded (required)  premium unleaded (required)  \n",
       "Engine HP                                230.0                        230.0  \n",
       "Engine Cylinders                           6.0                          6.0  \n",
       "Transmission Type                       MANUAL                       MANUAL  \n",
       "Driven_Wheels                 rear wheel drive             rear wheel drive  \n",
       "Number of Doors                            2.0                          2.0  \n",
       "Market Category             Luxury,Performance                       Luxury  \n",
       "Vehicle Size                           Compact                      Compact  \n",
       "Vehicle Style                            Coupe                  Convertible  \n",
       "highway MPG                                 28                           28  \n",
       "city mpg                                    18                           18  \n",
       "Popularity                                3916                         3916  \n",
       "MSRP                                     29450                        34500  "
      ]
     },
     "execution_count": 43,
     "metadata": {},
     "output_type": "execute_result"
    }
   ],
   "source": [
    "#Put data in dataframe\n",
    "df = pd.read_csv('homework_data.csv')\n",
    "df.head().T"
   ]
  },
  {
   "cell_type": "code",
   "execution_count": 44,
   "metadata": {},
   "outputs": [
    {
     "data": {
      "text/html": [
       "<div>\n",
       "<style scoped>\n",
       "    .dataframe tbody tr th:only-of-type {\n",
       "        vertical-align: middle;\n",
       "    }\n",
       "\n",
       "    .dataframe tbody tr th {\n",
       "        vertical-align: top;\n",
       "    }\n",
       "\n",
       "    .dataframe thead th {\n",
       "        text-align: right;\n",
       "    }\n",
       "</style>\n",
       "<table border=\"1\" class=\"dataframe\">\n",
       "  <thead>\n",
       "    <tr style=\"text-align: right;\">\n",
       "      <th></th>\n",
       "      <th>0</th>\n",
       "      <th>1</th>\n",
       "      <th>2</th>\n",
       "      <th>3</th>\n",
       "      <th>4</th>\n",
       "    </tr>\n",
       "  </thead>\n",
       "  <tbody>\n",
       "    <tr>\n",
       "      <th>Make</th>\n",
       "      <td>BMW</td>\n",
       "      <td>BMW</td>\n",
       "      <td>BMW</td>\n",
       "      <td>BMW</td>\n",
       "      <td>BMW</td>\n",
       "    </tr>\n",
       "    <tr>\n",
       "      <th>Model</th>\n",
       "      <td>1 Series M</td>\n",
       "      <td>1 Series</td>\n",
       "      <td>1 Series</td>\n",
       "      <td>1 Series</td>\n",
       "      <td>1 Series</td>\n",
       "    </tr>\n",
       "    <tr>\n",
       "      <th>Year</th>\n",
       "      <td>2011</td>\n",
       "      <td>2011</td>\n",
       "      <td>2011</td>\n",
       "      <td>2011</td>\n",
       "      <td>2011</td>\n",
       "    </tr>\n",
       "    <tr>\n",
       "      <th>Engine HP</th>\n",
       "      <td>335.0</td>\n",
       "      <td>300.0</td>\n",
       "      <td>300.0</td>\n",
       "      <td>230.0</td>\n",
       "      <td>230.0</td>\n",
       "    </tr>\n",
       "    <tr>\n",
       "      <th>Engine Cylinders</th>\n",
       "      <td>6.0</td>\n",
       "      <td>6.0</td>\n",
       "      <td>6.0</td>\n",
       "      <td>6.0</td>\n",
       "      <td>6.0</td>\n",
       "    </tr>\n",
       "    <tr>\n",
       "      <th>Transmission Type</th>\n",
       "      <td>MANUAL</td>\n",
       "      <td>MANUAL</td>\n",
       "      <td>MANUAL</td>\n",
       "      <td>MANUAL</td>\n",
       "      <td>MANUAL</td>\n",
       "    </tr>\n",
       "    <tr>\n",
       "      <th>Vehicle Style</th>\n",
       "      <td>Coupe</td>\n",
       "      <td>Convertible</td>\n",
       "      <td>Coupe</td>\n",
       "      <td>Coupe</td>\n",
       "      <td>Convertible</td>\n",
       "    </tr>\n",
       "    <tr>\n",
       "      <th>highway MPG</th>\n",
       "      <td>26</td>\n",
       "      <td>28</td>\n",
       "      <td>28</td>\n",
       "      <td>28</td>\n",
       "      <td>28</td>\n",
       "    </tr>\n",
       "    <tr>\n",
       "      <th>city mpg</th>\n",
       "      <td>19</td>\n",
       "      <td>19</td>\n",
       "      <td>20</td>\n",
       "      <td>18</td>\n",
       "      <td>18</td>\n",
       "    </tr>\n",
       "    <tr>\n",
       "      <th>MSRP</th>\n",
       "      <td>46135</td>\n",
       "      <td>40650</td>\n",
       "      <td>36350</td>\n",
       "      <td>29450</td>\n",
       "      <td>34500</td>\n",
       "    </tr>\n",
       "  </tbody>\n",
       "</table>\n",
       "</div>"
      ],
      "text/plain": [
       "                            0            1         2         3            4\n",
       "Make                      BMW          BMW       BMW       BMW          BMW\n",
       "Model              1 Series M     1 Series  1 Series  1 Series     1 Series\n",
       "Year                     2011         2011      2011      2011         2011\n",
       "Engine HP               335.0        300.0     300.0     230.0        230.0\n",
       "Engine Cylinders          6.0          6.0       6.0       6.0          6.0\n",
       "Transmission Type      MANUAL       MANUAL    MANUAL    MANUAL       MANUAL\n",
       "Vehicle Style           Coupe  Convertible     Coupe     Coupe  Convertible\n",
       "highway MPG                26           28        28        28           28\n",
       "city mpg                   19           19        20        18           18\n",
       "MSRP                    46135        40650     36350     29450        34500"
      ]
     },
     "execution_count": 44,
     "metadata": {},
     "output_type": "execute_result"
    }
   ],
   "source": [
    "#Get only the desired columns for the exercise\n",
    "desired_column = ['Make', 'Model', 'Year', 'Engine HP', 'Engine Cylinders', 'Transmission Type', 'Vehicle Style', 'highway MPG', 'city mpg', 'MSRP']\n",
    "df = df[desired_column]\n",
    "df.head().T"
   ]
  },
  {
   "cell_type": "code",
   "execution_count": 45,
   "metadata": {},
   "outputs": [],
   "source": [
    "#clean df columns\n",
    "df.columns = df.columns.str.lower().str.replace(' ','_') \n",
    "#clean df categorical values\n",
    "categorical_columns = list(df.dtypes[df.dtypes == 'object'].index)\n",
    "for c in categorical_columns:\n",
    "    df[c] = df[c].str.lower().str.replace(' ','_')"
   ]
  },
  {
   "cell_type": "code",
   "execution_count": 46,
   "metadata": {},
   "outputs": [],
   "source": [
    "#convert 'year' to object from int64\n",
    "df['year'] = df['year'].astype(str)"
   ]
  },
  {
   "cell_type": "code",
   "execution_count": 47,
   "metadata": {},
   "outputs": [
    {
     "data": {
      "text/plain": [
       "make                 0\n",
       "model                0\n",
       "year                 0\n",
       "engine_hp            0\n",
       "engine_cylinders     0\n",
       "transmission_type    0\n",
       "vehicle_style        0\n",
       "highway_mpg          0\n",
       "city_mpg             0\n",
       "msrp                 0\n",
       "dtype: int64"
      ]
     },
     "execution_count": 47,
     "metadata": {},
     "output_type": "execute_result"
    }
   ],
   "source": [
    "#fill empty columns with 0\n",
    "columns_to_fill = ['engine_hp', 'engine_cylinders']\n",
    "df[columns_to_fill] = df[columns_to_fill].fillna(0)\n",
    "#check columns have been filled\n",
    "df.isnull().sum()"
   ]
  },
  {
   "cell_type": "code",
   "execution_count": 48,
   "metadata": {},
   "outputs": [],
   "source": [
    "#set average\n",
    "above_average = df['msrp'].mean()\n",
    "#turn price into binary using in-line function\n",
    "df['above_average'] = df['msrp'].apply(lambda x: 1 if x > above_average else 0)\n",
    "#remove msrp from dataset\n",
    "del df['msrp']"
   ]
  },
  {
   "cell_type": "code",
   "execution_count": 49,
   "metadata": {},
   "outputs": [],
   "source": [
    "#split data\n",
    "df_full_train, df_test = train_test_split(df, test_size = 0.2, random_state=1)\n",
    "df_train, df_val = train_test_split(df_full_train, test_size = 0.25, random_state=1)\n",
    "\n",
    "#reset index, not necessary but looks better\n",
    "df_train = df_train.reset_index(drop=True)\n",
    "df_test = df_test.reset_index(drop=True)\n",
    "df_val = df_val.reset_index(drop=True)\n",
    "\n",
    "#split out target (y) values\n",
    "y_train = df_train.above_average.values\n",
    "y_test = df_test.above_average.values\n",
    "y_val = df_val.above_average.values\n",
    "\n",
    "#remove target (y) values from dataframes\n",
    "del df_train['above_average']\n",
    "del df_test['above_average']\n",
    "del df_val['above_average']\n",
    "\n",
    "#set list of categorical and numerical variables\n",
    "numerical_vars = ['engine_hp','engine_cylinders','highway_mpg','city_mpg']\n",
    "categorical_vars = ['make','model','year','transmission_type','vehicle_style']"
   ]
  },
  {
   "cell_type": "markdown",
   "metadata": {},
   "source": [
    "## Question 1: ROC AUC feature importance\n",
    "Use ROC AUC to evaluate feature importance of numerical variables\n",
    "- For each numerical variable, use it as a score and compute AUC with the `above_average` variable\n",
    "- Use the training dataset for that\n",
    "- If your AUC is <0.5, invert this variable by putting a \"-\" in front ie `-df_train['engine_hp']`"
   ]
  },
  {
   "cell_type": "code",
   "execution_count": 54,
   "metadata": {},
   "outputs": [],
   "source": [
    "#initialize dictionary to store AUC scores\n",
    "auc_scores = {}"
   ]
  },
  {
   "cell_type": "code",
   "execution_count": 55,
   "metadata": {},
   "outputs": [],
   "source": [
    "#loop thru numerical variables and calculate the ROC score\n",
    "for var in numerical_vars:\n",
    "    #get auc\n",
    "    auc = roc_auc_score(y_train, df_train[var])\n",
    "    #invert variable if score <0.5\n",
    "    if auc < 0.5:\n",
    "        auc = roc_auc_score(y_train, -df_train[var])\n",
    "    auc_scores[var] = auc"
   ]
  },
  {
   "cell_type": "code",
   "execution_count": 56,
   "metadata": {},
   "outputs": [
    {
     "data": {
      "text/plain": [
       "{'engine_hp': 0.9171031265539011,\n",
       " 'engine_cylinders': 0.766116490165669,\n",
       " 'highway_mpg': 0.6330587871772013,\n",
       " 'city_mpg': 0.6734244643245233}"
      ]
     },
     "execution_count": 56,
     "metadata": {},
     "output_type": "execute_result"
    }
   ],
   "source": [
    "auc_scores"
   ]
  },
  {
   "cell_type": "markdown",
   "metadata": {},
   "source": [
    "## Question 2: Training the model\n",
    "Apply one-hot encoding using `DictVectorizer` and train the logistic regression with these parameters:\n",
    "- `LogisticRegression(solver='liblinear', C=1.0, max_iter=1000)`\n",
    "- What's the AUC of this model on the validation dataset? (round to 3 digits)"
   ]
  },
  {
   "cell_type": "code",
   "execution_count": 66,
   "metadata": {},
   "outputs": [
    {
     "data": {
      "text/html": [
       "<style>#sk-container-id-2 {color: black;}#sk-container-id-2 pre{padding: 0;}#sk-container-id-2 div.sk-toggleable {background-color: white;}#sk-container-id-2 label.sk-toggleable__label {cursor: pointer;display: block;width: 100%;margin-bottom: 0;padding: 0.3em;box-sizing: border-box;text-align: center;}#sk-container-id-2 label.sk-toggleable__label-arrow:before {content: \"▸\";float: left;margin-right: 0.25em;color: #696969;}#sk-container-id-2 label.sk-toggleable__label-arrow:hover:before {color: black;}#sk-container-id-2 div.sk-estimator:hover label.sk-toggleable__label-arrow:before {color: black;}#sk-container-id-2 div.sk-toggleable__content {max-height: 0;max-width: 0;overflow: hidden;text-align: left;background-color: #f0f8ff;}#sk-container-id-2 div.sk-toggleable__content pre {margin: 0.2em;color: black;border-radius: 0.25em;background-color: #f0f8ff;}#sk-container-id-2 input.sk-toggleable__control:checked~div.sk-toggleable__content {max-height: 200px;max-width: 100%;overflow: auto;}#sk-container-id-2 input.sk-toggleable__control:checked~label.sk-toggleable__label-arrow:before {content: \"▾\";}#sk-container-id-2 div.sk-estimator input.sk-toggleable__control:checked~label.sk-toggleable__label {background-color: #d4ebff;}#sk-container-id-2 div.sk-label input.sk-toggleable__control:checked~label.sk-toggleable__label {background-color: #d4ebff;}#sk-container-id-2 input.sk-hidden--visually {border: 0;clip: rect(1px 1px 1px 1px);clip: rect(1px, 1px, 1px, 1px);height: 1px;margin: -1px;overflow: hidden;padding: 0;position: absolute;width: 1px;}#sk-container-id-2 div.sk-estimator {font-family: monospace;background-color: #f0f8ff;border: 1px dotted black;border-radius: 0.25em;box-sizing: border-box;margin-bottom: 0.5em;}#sk-container-id-2 div.sk-estimator:hover {background-color: #d4ebff;}#sk-container-id-2 div.sk-parallel-item::after {content: \"\";width: 100%;border-bottom: 1px solid gray;flex-grow: 1;}#sk-container-id-2 div.sk-label:hover label.sk-toggleable__label {background-color: #d4ebff;}#sk-container-id-2 div.sk-serial::before {content: \"\";position: absolute;border-left: 1px solid gray;box-sizing: border-box;top: 0;bottom: 0;left: 50%;z-index: 0;}#sk-container-id-2 div.sk-serial {display: flex;flex-direction: column;align-items: center;background-color: white;padding-right: 0.2em;padding-left: 0.2em;position: relative;}#sk-container-id-2 div.sk-item {position: relative;z-index: 1;}#sk-container-id-2 div.sk-parallel {display: flex;align-items: stretch;justify-content: center;background-color: white;position: relative;}#sk-container-id-2 div.sk-item::before, #sk-container-id-2 div.sk-parallel-item::before {content: \"\";position: absolute;border-left: 1px solid gray;box-sizing: border-box;top: 0;bottom: 0;left: 50%;z-index: -1;}#sk-container-id-2 div.sk-parallel-item {display: flex;flex-direction: column;z-index: 1;position: relative;background-color: white;}#sk-container-id-2 div.sk-parallel-item:first-child::after {align-self: flex-end;width: 50%;}#sk-container-id-2 div.sk-parallel-item:last-child::after {align-self: flex-start;width: 50%;}#sk-container-id-2 div.sk-parallel-item:only-child::after {width: 0;}#sk-container-id-2 div.sk-dashed-wrapped {border: 1px dashed gray;margin: 0 0.4em 0.5em 0.4em;box-sizing: border-box;padding-bottom: 0.4em;background-color: white;}#sk-container-id-2 div.sk-label label {font-family: monospace;font-weight: bold;display: inline-block;line-height: 1.2em;}#sk-container-id-2 div.sk-label-container {text-align: center;}#sk-container-id-2 div.sk-container {/* jupyter's `normalize.less` sets `[hidden] { display: none; }` but bootstrap.min.css set `[hidden] { display: none !important; }` so we also need the `!important` here to be able to override the default hidden behavior on the sphinx rendered scikit-learn.org. See: https://github.com/scikit-learn/scikit-learn/issues/21755 */display: inline-block !important;position: relative;}#sk-container-id-2 div.sk-text-repr-fallback {display: none;}</style><div id=\"sk-container-id-2\" class=\"sk-top-container\"><div class=\"sk-text-repr-fallback\"><pre>LogisticRegression(max_iter=1000, solver=&#x27;liblinear&#x27;)</pre><b>In a Jupyter environment, please rerun this cell to show the HTML representation or trust the notebook. <br />On GitHub, the HTML representation is unable to render, please try loading this page with nbviewer.org.</b></div><div class=\"sk-container\" hidden><div class=\"sk-item\"><div class=\"sk-estimator sk-toggleable\"><input class=\"sk-toggleable__control sk-hidden--visually\" id=\"sk-estimator-id-2\" type=\"checkbox\" checked><label for=\"sk-estimator-id-2\" class=\"sk-toggleable__label sk-toggleable__label-arrow\">LogisticRegression</label><div class=\"sk-toggleable__content\"><pre>LogisticRegression(max_iter=1000, solver=&#x27;liblinear&#x27;)</pre></div></div></div></div></div>"
      ],
      "text/plain": [
       "LogisticRegression(max_iter=1000, solver='liblinear')"
      ]
     },
     "execution_count": 66,
     "metadata": {},
     "output_type": "execute_result"
    }
   ],
   "source": [
    "dv = DictVectorizer(sparse=False)\n",
    "\n",
    "train_dict = df_train[categorical_vars + numerical_vars].to_dict(orient='records')\n",
    "X_train = dv.fit_transform(train_dict)\n",
    "\n",
    "model = LogisticRegression(solver='liblinear', C=1.0, max_iter=1000)\n",
    "model.fit(X_train, y_train)"
   ]
  },
  {
   "cell_type": "code",
   "execution_count": 68,
   "metadata": {},
   "outputs": [
    {
     "data": {
      "text/plain": [
       "0.9433487201007134"
      ]
     },
     "execution_count": 68,
     "metadata": {},
     "output_type": "execute_result"
    }
   ],
   "source": [
    "val_dict = df_val[categorical_vars + numerical_vars].to_dict(orient='records')\n",
    "X_val = dv.transform(val_dict)\n",
    "\n",
    "y_pred = model.predict_proba(X_val)[:, 1]\n",
    "churn_decision = (y_pred >= 0.5)\n",
    "(y_val == churn_decision).mean()"
   ]
  },
  {
   "cell_type": "code",
   "execution_count": 69,
   "metadata": {},
   "outputs": [
    {
     "data": {
      "text/plain": [
       "0.9832432174296007"
      ]
     },
     "execution_count": 69,
     "metadata": {},
     "output_type": "execute_result"
    }
   ],
   "source": [
    "#calculate predicted probabilities for the validation set\n",
    "y_pred_prob = model.predict_proba(X_val)[:, 1]\n",
    "\n",
    "#calculate the AUC score\n",
    "auc_score = roc_auc_score(y_val, y_pred_prob)\n",
    "\n",
    "auc_score"
   ]
  },
  {
   "cell_type": "markdown",
   "metadata": {},
   "source": [
    "## Question 3: Precision and Recall\n",
    "- Evaluate the model on all thresholds from 0.0 to 1.0 with step 0.01\n",
    "- For each threshold, compute precision and recall\n",
    "- Plot them\n",
    "- At which threshold precision and recall curves intersect?"
   ]
  },
  {
   "cell_type": "code",
   "execution_count": 71,
   "metadata": {},
   "outputs": [],
   "source": [
    "#set thresholds and initialize lists to store precision and recall values\n",
    "thresholds = np.arange(0, 1.01, 0.01)\n",
    "precision_scores = []\n",
    "recall_scores = []\n"
   ]
  },
  {
   "cell_type": "code",
   "execution_count": 72,
   "metadata": {},
   "outputs": [
    {
     "name": "stderr",
     "output_type": "stream",
     "text": [
      "/home/tsimpson_unix/anaconda3/envs/ml-zoomcamp/lib/python3.9/site-packages/sklearn/metrics/_classification.py:1469: UndefinedMetricWarning: Precision is ill-defined and being set to 0.0 due to no predicted samples. Use `zero_division` parameter to control this behavior.\n",
      "  _warn_prf(average, modifier, msg_start, len(result))\n"
     ]
    }
   ],
   "source": [
    "#calculate precision and recall for each threshold\n",
    "for threshold in thresholds:\n",
    "    churn_decision = (y_pred >= threshold)\n",
    "    precision = precision_score(y_val, churn_decision)\n",
    "    recall = recall_score(y_val, churn_decision)\n",
    "    precision_scores.append(precision)\n",
    "    recall_scores.append(recall)"
   ]
  },
  {
   "cell_type": "code",
   "execution_count": 73,
   "metadata": {},
   "outputs": [
    {
     "data": {
      "image/png": "[encoded data removed]",
      "text/plain": [
       "<Figure size 800x600 with 1 Axes>"
      ]
     },
     "metadata": {},
     "output_type": "display_data"
    }
   ],
   "source": [
    "#plot precision and recall curves\n",
    "plt.figure(figsize=(8, 6))\n",
    "plt.plot(thresholds, precision_scores, label='Precision', marker='o')\n",
    "plt.plot(thresholds, recall_scores, label='Recall', marker='o')\n",
    "plt.xlabel('Threshold')\n",
    "plt.ylabel('Score')\n",
    "plt.title('Precision-Recall Curve')\n",
    "plt.legend()\n",
    "plt.grid()\n",
    "plt.show()"
   ]
  },
  {
   "cell_type": "markdown",
   "metadata": {},
   "source": [
    "## Question 4: F1 score\n",
    "Precision and recall are conflicting - when one grows, the other goes down. That's why they are often combined into the F1 score - a metrics that takes into account both  \n",
    "\n",
    "This is the formula for computing F1:\n",
    "\n",
    "`F_1 = 2 \\cdot \\cfrac{P \\cdot R}{P + R}` where p is precision and r is recall\n",
    "\n",
    "Find the threshold F1 is maximal"
   ]
  },
  {
   "cell_type": "code",
   "execution_count": 75,
   "metadata": {},
   "outputs": [],
   "source": [
    "#set thresholds and initialize lists to store F1 scores\n",
    "thresholds = np.arange(0, 1.01, 0.01)\n",
    "f1_scores = []"
   ]
  },
  {
   "cell_type": "code",
   "execution_count": 76,
   "metadata": {},
   "outputs": [],
   "source": [
    "#calculate F1 score for each threshold\n",
    "for threshold in thresholds:\n",
    "    churn_decision = (y_pred >= threshold)\n",
    "    f1 = f1_score(y_val, churn_decision)\n",
    "    f1_scores.append(f1)"
   ]
  },
  {
   "cell_type": "code",
   "execution_count": 78,
   "metadata": {},
   "outputs": [],
   "source": [
    "#find the threshold at which F1 is maximal\n",
    "max_f1 = max(f1_scores)\n",
    "optimal_threshold = thresholds[f1_scores.index(max_f1)]"
   ]
  },
  {
   "cell_type": "code",
   "execution_count": 80,
   "metadata": {},
   "outputs": [
    {
     "data": {
      "text/plain": [
       "(0.8990683229813664, 0.53)"
      ]
     },
     "execution_count": 80,
     "metadata": {},
     "output_type": "execute_result"
    }
   ],
   "source": [
    "max_f1, optimal_threshold"
   ]
  },
  {
   "cell_type": "markdown",
   "metadata": {},
   "source": [
    "## Question 5: 5-Fold CV\n",
    "\n",
    "Use the `KFold` class from Scikit-Learn to evaluate our model on 5 different folds:\n",
    "\n",
    "```\n",
    "KFold(n_splits=5, shuffle=True, random_state=1)\n",
    "```\n",
    "\n",
    "* Iterate over different folds of `df_full_train`\n",
    "* Split the data into train and validation\n",
    "* Train the model on train with these parameters: `LogisticRegression(solver='liblinear', C=1.0, max_iter=1000)`\n",
    "* Use AUC to evaluate the model on validation\n",
    "\n",
    "How large is standard devidation of the scores across different folds?"
   ]
  },
  {
   "cell_type": "code",
   "execution_count": 83,
   "metadata": {},
   "outputs": [
    {
     "name": "stdout",
     "output_type": "stream",
     "text": [
      "AUC Scores: [0.9833931468800704, 0.9844650239697409, 0.9866460320116, 0.9840011711560984, 0.9893148518148518]\n",
      "Standard Deviation of AUC Scores: 0.002172669702445673\n"
     ]
    }
   ],
   "source": [
    "#create a KFold object with 5 splits, shuffle the data, and set a random seed\n",
    "n_splits = 5\n",
    "kf = KFold(n_splits=n_splits, shuffle=True, random_state=1)\n",
    "\n",
    "#initialize a list to store AUC scores for each fold\n",
    "auc_scores = []\n",
    "\n",
    "#define the logistic regression model with the specified parameters\n",
    "model = LogisticRegression(solver='liblinear', C=1.0, max_iter=1000)\n",
    "\n",
    "#iterate over different folds\n",
    "for train_idx, val_idx in kf.split(df_full_train):\n",
    "    #split the data into train and validation sets\n",
    "    train_data = df_full_train.iloc[train_idx]\n",
    "    val_data = df_full_train.iloc[val_idx]\n",
    "    \n",
    "    #prepare the train and validation sets and train the model\n",
    "    train_dict = train_data[categorical_vars + numerical_vars].to_dict(orient='records')\n",
    "    X_train = dv.fit_transform(train_dict)\n",
    "    y_train = train_data['above_average']\n",
    "    \n",
    "    val_dict = val_data[categorical_vars + numerical_vars].to_dict(orient='records')\n",
    "    X_val = dv.transform(val_dict)\n",
    "    y_val = val_data['above_average']\n",
    "    \n",
    "    model.fit(X_train, y_train)\n",
    "    \n",
    "    #calculate predicted probabilities for the validation set\n",
    "    y_pred_prob = model.predict_proba(X_val)[:, 1]\n",
    "    \n",
    "    #calculate the AUC score for this fold and append it to the list\n",
    "    auc = roc_auc_score(y_val, y_pred_prob)\n",
    "    auc_scores.append(auc)\n",
    "\n",
    "#calculate the standard deviation of AUC scores\n",
    "std_deviation = np.std(auc_scores)\n",
    "\n",
    "print(\"AUC Scores:\", auc_scores)\n",
    "print(\"Standard Deviation of AUC Scores:\", std_deviation)"
   ]
  },
  {
   "cell_type": "markdown",
   "metadata": {},
   "source": [
    "## Question 6: Hyperparemeter Tuning\n",
    "\n",
    "Now let's use 5-Fold cross-validation to find the best parameter `C`\n",
    "\n",
    "* Iterate over the following `C` values: `[0.01, 0.1, 0.5, 10]`\n",
    "* Initialize `KFold` with the same parameters as previously\n",
    "* Use these parametes for the model: `LogisticRegression(solver='liblinear', C=C, max_iter=1000)`\n",
    "* Compute the mean score as well as the std (round the mean and std to 3 decimal digits)\n",
    "\n",
    "Which `C` leads to the best mean score?"
   ]
  },
  {
   "cell_type": "code",
   "execution_count": 85,
   "metadata": {},
   "outputs": [
    {
     "name": "stdout",
     "output_type": "stream",
     "text": [
      "Mean AUC Scores: {0.01: 0.94, 0.1: 0.975, 0.5: 0.984, 10: 0.988}\n",
      "Std AUC Scores: {0.01: 0.002, 0.1: 0.003, 0.5: 0.002, 10: 0.001}\n",
      "Best C: 10\n",
      "Best Mean AUC Score: 0.988\n",
      "Standard Deviation of Best Mean AUC Score: 0.001\n"
     ]
    }
   ],
   "source": [
    "#define the list of C values to iterate over\n",
    "C_values = [0.01, 0.1, 0.5, 10]\n",
    "\n",
    "#initialize KFold with the same parameters as before\n",
    "n_splits = 5\n",
    "kf = KFold(n_splits=n_splits, shuffle=True, random_state=1)\n",
    "\n",
    "#initialize dictionaries to store mean and std of AUC scores for each C value\n",
    "mean_auc_scores = {}\n",
    "std_auc_scores = {}\n",
    "\n",
    "#iterate over different C values\n",
    "for C in C_values:\n",
    "    #initialize a list to store AUC scores for each fold\n",
    "    auc_scores = []\n",
    "    \n",
    "    #define the logistic regression model with the current C value\n",
    "    model = LogisticRegression(solver='liblinear', C=C, max_iter=1000)\n",
    "    \n",
    "    #iterate over different folds\n",
    "    for train_idx, val_idx in kf.split(df_full_train):\n",
    "        #split the data into train and validation sets\n",
    "        train_data = df_full_train.iloc[train_idx]\n",
    "        val_data = df_full_train.iloc[val_idx]\n",
    "\n",
    "        #prepare the train and validation sets and train the model\n",
    "        train_dict = train_data[categorical_vars + numerical_vars].to_dict(orient='records')\n",
    "        X_train = dv.fit_transform(train_dict)\n",
    "        y_train = train_data['above_average']\n",
    "\n",
    "        val_dict = val_data[categorical_vars + numerical_vars].to_dict(orient='records')\n",
    "        X_val = dv.transform(val_dict)\n",
    "        y_val = val_data['above_average']\n",
    "\n",
    "        model.fit(X_train, y_train)\n",
    "\n",
    "        #calculate predicted probabilities for the validation set\n",
    "        y_pred_prob = model.predict_proba(X_val)[:, 1]\n",
    "\n",
    "        #calculate the AUC score for this fold and append it to the list\n",
    "        auc = roc_auc_score(y_val, y_pred_prob)\n",
    "        auc_scores.append(auc)\n",
    "    \n",
    "    #calculate the mean and standard deviation of AUC scores for the current C value\n",
    "    mean_auc = np.mean(auc_scores)\n",
    "    std_auc = np.std(auc_scores)\n",
    "    \n",
    "    #store the mean and std in the dictionaries\n",
    "    mean_auc_scores[C] = round(mean_auc, 3)\n",
    "    std_auc_scores[C] = round(std_auc, 3)\n",
    "\n",
    "#find the C value that leads to the best mean AUC score\n",
    "best_C = max(mean_auc_scores, key=mean_auc_scores.get)\n",
    "best_mean_auc = mean_auc_scores[best_C]\n",
    "best_std_auc = std_auc_scores[best_C]\n",
    "\n",
    "print(\"Mean AUC Scores:\", mean_auc_scores)\n",
    "print(\"Std AUC Scores:\", std_auc_scores)\n",
    "print(\"Best C:\", best_C)\n",
    "print(\"Best Mean AUC Score:\", best_mean_auc)\n",
    "print(\"Standard Deviation of Best Mean AUC Score:\", best_std_auc)"
   ]
  },
  {
   "cell_type": "code",
   "execution_count": null,
   "metadata": {},
   "outputs": [],
   "source": []
  }
 ],
 "metadata": {
  "kernelspec": {
   "display_name": "ml-zoomcamp",
   "language": "python",
   "name": "python3"
  },
  "language_info": {
   "codemirror_mode": {
    "name": "ipython",
    "version": 3
   },
   "file_extension": ".py",
   "mimetype": "text/x-python",
   "name": "python",
   "nbconvert_exporter": "python",
   "pygments_lexer": "ipython3",
   "version": "3.9.18"
  },
  "orig_nbformat": 4
 },
 "nbformat": 4,
 "nbformat_minor": 2
}
